{
 "cells": [
  {
   "cell_type": "code",
   "execution_count": 76,
   "metadata": {},
   "outputs": [
    {
     "name": "stdout",
     "output_type": "stream",
     "text": [
      "1.25.0\n",
      "1.5.3\n",
      "3.11.4 | packaged by Anaconda, Inc. | (main, Jul  5 2023, 13:47:18) [MSC v.1916 64 bit (AMD64)]\n",
      "1.2.2\n"
     ]
    }
   ],
   "source": [
    "import numpy as np\n",
    "import pandas as pd\n",
    "from sklearn.datasets import fetch_openml\n",
    "from sklearn.model_selection import  train_test_split, cross_val_score, StratifiedKFold, cross_val_predict\n",
    "from sklearn.linear_model import LogisticRegression, SGDClassifier\n",
    "from sklearn.base import clone\n",
    "from sklearn.preprocessing import StandardScaler\n",
    "from sklearn.metrics import classification_report, confusion_matrix,PrecisionRecallDisplay, ConfusionMatrixDisplay,precision_recall_curve, precision_score,recall_score, f1_score,accuracy_score\n",
    "from sklearn.utils import resample\n",
    "\n",
    "\n",
    "import matplotlib.pyplot as plt\n",
    "import seaborn as sn\n",
    "%matplotlib inline\n",
    "\n",
    "print(np.__version__)\n",
    "print(pd.__version__)\n",
    "import sys\n",
    "print(sys.version)\n",
    "import sklearn\n",
    "print(sklearn.__version__)"
   ]
  },
  {
   "cell_type": "markdown",
   "metadata": {},
   "source": [
    "\n",
    " Worldwide, breast cancer is the most common type of cancer in women and the second highest in terms of mortality rates.Diagnosis of breast cancer is performed when an abnormal lump is found (from self-examination or x-ray) or a tiny speck of calcium is seen (on an x-ray). After a suspicious lump is found, the doctor will conduct a diagnosis to determine whether it is cancerous and, if so, whether it has spread to other parts of the body.\n",
    "\n",
    "This breast cancer dataset was obtained from the University of Wisconsin Hospitals, Madison from Dr. William H. Wolberg.\n",
    "the class label consist of Benign tumors whcich are noncancerous represented as 0 , and Malignant tumors are cancerous represented as 1"
   ]
  },
  {
   "cell_type": "code",
   "execution_count": 44,
   "metadata": {},
   "outputs": [
    {
     "data": {
      "text/html": [
       "<div>\n",
       "<style scoped>\n",
       "    .dataframe tbody tr th:only-of-type {\n",
       "        vertical-align: middle;\n",
       "    }\n",
       "\n",
       "    .dataframe tbody tr th {\n",
       "        vertical-align: top;\n",
       "    }\n",
       "\n",
       "    .dataframe thead th {\n",
       "        text-align: right;\n",
       "    }\n",
       "</style>\n",
       "<table border=\"1\" class=\"dataframe\">\n",
       "  <thead>\n",
       "    <tr style=\"text-align: right;\">\n",
       "      <th></th>\n",
       "      <th>mean_radius</th>\n",
       "      <th>mean_texture</th>\n",
       "      <th>mean_perimeter</th>\n",
       "      <th>mean_area</th>\n",
       "      <th>mean_smoothness</th>\n",
       "      <th>diagnosis</th>\n",
       "    </tr>\n",
       "  </thead>\n",
       "  <tbody>\n",
       "    <tr>\n",
       "      <th>0</th>\n",
       "      <td>17.99</td>\n",
       "      <td>10.38</td>\n",
       "      <td>122.80</td>\n",
       "      <td>1001.0</td>\n",
       "      <td>0.11840</td>\n",
       "      <td>0</td>\n",
       "    </tr>\n",
       "    <tr>\n",
       "      <th>1</th>\n",
       "      <td>20.57</td>\n",
       "      <td>17.77</td>\n",
       "      <td>132.90</td>\n",
       "      <td>1326.0</td>\n",
       "      <td>0.08474</td>\n",
       "      <td>0</td>\n",
       "    </tr>\n",
       "    <tr>\n",
       "      <th>2</th>\n",
       "      <td>19.69</td>\n",
       "      <td>21.25</td>\n",
       "      <td>130.00</td>\n",
       "      <td>1203.0</td>\n",
       "      <td>0.10960</td>\n",
       "      <td>0</td>\n",
       "    </tr>\n",
       "    <tr>\n",
       "      <th>3</th>\n",
       "      <td>11.42</td>\n",
       "      <td>20.38</td>\n",
       "      <td>77.58</td>\n",
       "      <td>386.1</td>\n",
       "      <td>0.14250</td>\n",
       "      <td>0</td>\n",
       "    </tr>\n",
       "    <tr>\n",
       "      <th>4</th>\n",
       "      <td>20.29</td>\n",
       "      <td>14.34</td>\n",
       "      <td>135.10</td>\n",
       "      <td>1297.0</td>\n",
       "      <td>0.10030</td>\n",
       "      <td>0</td>\n",
       "    </tr>\n",
       "    <tr>\n",
       "      <th>...</th>\n",
       "      <td>...</td>\n",
       "      <td>...</td>\n",
       "      <td>...</td>\n",
       "      <td>...</td>\n",
       "      <td>...</td>\n",
       "      <td>...</td>\n",
       "    </tr>\n",
       "    <tr>\n",
       "      <th>564</th>\n",
       "      <td>21.56</td>\n",
       "      <td>22.39</td>\n",
       "      <td>142.00</td>\n",
       "      <td>1479.0</td>\n",
       "      <td>0.11100</td>\n",
       "      <td>0</td>\n",
       "    </tr>\n",
       "    <tr>\n",
       "      <th>565</th>\n",
       "      <td>20.13</td>\n",
       "      <td>28.25</td>\n",
       "      <td>131.20</td>\n",
       "      <td>1261.0</td>\n",
       "      <td>0.09780</td>\n",
       "      <td>0</td>\n",
       "    </tr>\n",
       "    <tr>\n",
       "      <th>566</th>\n",
       "      <td>16.60</td>\n",
       "      <td>28.08</td>\n",
       "      <td>108.30</td>\n",
       "      <td>858.1</td>\n",
       "      <td>0.08455</td>\n",
       "      <td>0</td>\n",
       "    </tr>\n",
       "    <tr>\n",
       "      <th>567</th>\n",
       "      <td>20.60</td>\n",
       "      <td>29.33</td>\n",
       "      <td>140.10</td>\n",
       "      <td>1265.0</td>\n",
       "      <td>0.11780</td>\n",
       "      <td>0</td>\n",
       "    </tr>\n",
       "    <tr>\n",
       "      <th>568</th>\n",
       "      <td>7.76</td>\n",
       "      <td>24.54</td>\n",
       "      <td>47.92</td>\n",
       "      <td>181.0</td>\n",
       "      <td>0.05263</td>\n",
       "      <td>1</td>\n",
       "    </tr>\n",
       "  </tbody>\n",
       "</table>\n",
       "<p>569 rows × 6 columns</p>\n",
       "</div>"
      ],
      "text/plain": [
       "     mean_radius  mean_texture  mean_perimeter  mean_area  mean_smoothness  \\\n",
       "0          17.99         10.38          122.80     1001.0          0.11840   \n",
       "1          20.57         17.77          132.90     1326.0          0.08474   \n",
       "2          19.69         21.25          130.00     1203.0          0.10960   \n",
       "3          11.42         20.38           77.58      386.1          0.14250   \n",
       "4          20.29         14.34          135.10     1297.0          0.10030   \n",
       "..           ...           ...             ...        ...              ...   \n",
       "564        21.56         22.39          142.00     1479.0          0.11100   \n",
       "565        20.13         28.25          131.20     1261.0          0.09780   \n",
       "566        16.60         28.08          108.30      858.1          0.08455   \n",
       "567        20.60         29.33          140.10     1265.0          0.11780   \n",
       "568         7.76         24.54           47.92      181.0          0.05263   \n",
       "\n",
       "     diagnosis  \n",
       "0            0  \n",
       "1            0  \n",
       "2            0  \n",
       "3            0  \n",
       "4            0  \n",
       "..         ...  \n",
       "564          0  \n",
       "565          0  \n",
       "566          0  \n",
       "567          0  \n",
       "568          1  \n",
       "\n",
       "[569 rows x 6 columns]"
      ]
     },
     "execution_count": 44,
     "metadata": {},
     "output_type": "execute_result"
    }
   ],
   "source": [
    "BC = pd.read_csv(\"C:/Users/candy/OneDrive/Desktop/COMPUTATIONAL Science/PY4E/DATAASET/Breast_cancer_data.csv\")\n",
    "BC"
   ]
  },
  {
   "cell_type": "code",
   "execution_count": 45,
   "metadata": {},
   "outputs": [
    {
     "data": {
      "text/plain": [
       "mean_radius        0\n",
       "mean_texture       0\n",
       "mean_perimeter     0\n",
       "mean_area          0\n",
       "mean_smoothness    0\n",
       "diagnosis          0\n",
       "dtype: int64"
      ]
     },
     "execution_count": 45,
     "metadata": {},
     "output_type": "execute_result"
    }
   ],
   "source": [
    "BC.isna().sum()\n"
   ]
  },
  {
   "cell_type": "code",
   "execution_count": 46,
   "metadata": {},
   "outputs": [
    {
     "name": "stdout",
     "output_type": "stream",
     "text": [
      "<class 'pandas.core.frame.DataFrame'>\n",
      "RangeIndex: 569 entries, 0 to 568\n",
      "Data columns (total 6 columns):\n",
      " #   Column           Non-Null Count  Dtype  \n",
      "---  ------           --------------  -----  \n",
      " 0   mean_radius      569 non-null    float64\n",
      " 1   mean_texture     569 non-null    float64\n",
      " 2   mean_perimeter   569 non-null    float64\n",
      " 3   mean_area        569 non-null    float64\n",
      " 4   mean_smoothness  569 non-null    float64\n",
      " 5   diagnosis        569 non-null    int64  \n",
      "dtypes: float64(5), int64(1)\n",
      "memory usage: 26.8 KB\n"
     ]
    }
   ],
   "source": [
    "BC.info()"
   ]
  },
  {
   "cell_type": "code",
   "execution_count": 47,
   "metadata": {},
   "outputs": [
    {
     "data": {
      "text/plain": [
       "(569, 5)"
      ]
     },
     "execution_count": 47,
     "metadata": {},
     "output_type": "execute_result"
    }
   ],
   "source": [
    "\n",
    "X = BC.iloc[:, :-1].values\n",
    "X\n",
    "y = BC[\"diagnosis\"].values\n",
    "y.shape\n",
    "X.shape"
   ]
  },
  {
   "cell_type": "code",
   "execution_count": 48,
   "metadata": {},
   "outputs": [
    {
     "data": {
      "text/plain": [
       "array([[1.374e+01, 1.791e+01, 8.812e+01, 5.850e+02, 7.944e-02],\n",
       "       [1.337e+01, 1.639e+01, 8.610e+01, 5.535e+02, 7.115e-02],\n",
       "       [1.469e+01, 1.398e+01, 9.822e+01, 6.561e+02, 1.031e-01],\n",
       "       ...,\n",
       "       [1.429e+01, 1.682e+01, 9.030e+01, 6.326e+02, 6.429e-02],\n",
       "       [1.398e+01, 1.962e+01, 9.112e+01, 5.995e+02, 1.060e-01],\n",
       "       [1.218e+01, 2.052e+01, 7.722e+01, 4.587e+02, 8.013e-02]])"
      ]
     },
     "execution_count": 48,
     "metadata": {},
     "output_type": "execute_result"
    }
   ],
   "source": [
    "xtrain, xtest, ytrain, ytest = train_test_split(X, y, random_state=42, test_size=0.3)\n",
    "xtrain"
   ]
  },
  {
   "cell_type": "code",
   "execution_count": 49,
   "metadata": {},
   "outputs": [
    {
     "name": "stderr",
     "output_type": "stream",
     "text": [
      "C:\\anacondaa\\envs\\Nneoma\\Lib\\site-packages\\sklearn\\linear_model\\_logistic.py:458: ConvergenceWarning: lbfgs failed to converge (status=1):\n",
      "STOP: TOTAL NO. of ITERATIONS REACHED LIMIT.\n",
      "\n",
      "Increase the number of iterations (max_iter) or scale the data as shown in:\n",
      "    https://scikit-learn.org/stable/modules/preprocessing.html\n",
      "Please also refer to the documentation for alternative solver options:\n",
      "    https://scikit-learn.org/stable/modules/linear_model.html#logistic-regression\n",
      "  n_iter_i = _check_optimize_result(\n",
      "C:\\anacondaa\\envs\\Nneoma\\Lib\\site-packages\\sklearn\\linear_model\\_logistic.py:458: ConvergenceWarning: lbfgs failed to converge (status=1):\n",
      "STOP: TOTAL NO. of ITERATIONS REACHED LIMIT.\n",
      "\n",
      "Increase the number of iterations (max_iter) or scale the data as shown in:\n",
      "    https://scikit-learn.org/stable/modules/preprocessing.html\n",
      "Please also refer to the documentation for alternative solver options:\n",
      "    https://scikit-learn.org/stable/modules/linear_model.html#logistic-regression\n",
      "  n_iter_i = _check_optimize_result(\n",
      "C:\\anacondaa\\envs\\Nneoma\\Lib\\site-packages\\sklearn\\linear_model\\_logistic.py:458: ConvergenceWarning: lbfgs failed to converge (status=1):\n",
      "STOP: TOTAL NO. of ITERATIONS REACHED LIMIT.\n",
      "\n",
      "Increase the number of iterations (max_iter) or scale the data as shown in:\n",
      "    https://scikit-learn.org/stable/modules/preprocessing.html\n",
      "Please also refer to the documentation for alternative solver options:\n",
      "    https://scikit-learn.org/stable/modules/linear_model.html#logistic-regression\n",
      "  n_iter_i = _check_optimize_result(\n",
      "C:\\anacondaa\\envs\\Nneoma\\Lib\\site-packages\\sklearn\\linear_model\\_logistic.py:458: ConvergenceWarning: lbfgs failed to converge (status=1):\n",
      "STOP: TOTAL NO. of ITERATIONS REACHED LIMIT.\n",
      "\n",
      "Increase the number of iterations (max_iter) or scale the data as shown in:\n",
      "    https://scikit-learn.org/stable/modules/preprocessing.html\n",
      "Please also refer to the documentation for alternative solver options:\n",
      "    https://scikit-learn.org/stable/modules/linear_model.html#logistic-regression\n",
      "  n_iter_i = _check_optimize_result(\n",
      "C:\\anacondaa\\envs\\Nneoma\\Lib\\site-packages\\sklearn\\linear_model\\_logistic.py:458: ConvergenceWarning: lbfgs failed to converge (status=1):\n",
      "STOP: TOTAL NO. of ITERATIONS REACHED LIMIT.\n",
      "\n",
      "Increase the number of iterations (max_iter) or scale the data as shown in:\n",
      "    https://scikit-learn.org/stable/modules/preprocessing.html\n",
      "Please also refer to the documentation for alternative solver options:\n",
      "    https://scikit-learn.org/stable/modules/linear_model.html#logistic-regression\n",
      "  n_iter_i = _check_optimize_result(\n"
     ]
    },
    {
     "name": "stdout",
     "output_type": "stream",
     "text": [
      "[0.904296875, 0.919921875, 0.90625, 0.912109375, 0.904296875, 0.91015625, 0.9140625, 0.912109375, 0.90625, 0.9200779727095516]\n"
     ]
    },
    {
     "name": "stderr",
     "output_type": "stream",
     "text": [
      "C:\\anacondaa\\envs\\Nneoma\\Lib\\site-packages\\sklearn\\linear_model\\_logistic.py:458: ConvergenceWarning: lbfgs failed to converge (status=1):\n",
      "STOP: TOTAL NO. of ITERATIONS REACHED LIMIT.\n",
      "\n",
      "Increase the number of iterations (max_iter) or scale the data as shown in:\n",
      "    https://scikit-learn.org/stable/modules/preprocessing.html\n",
      "Please also refer to the documentation for alternative solver options:\n",
      "    https://scikit-learn.org/stable/modules/linear_model.html#logistic-regression\n",
      "  n_iter_i = _check_optimize_result(\n"
     ]
    }
   ],
   "source": [
    "sk_fold = StratifiedKFold(n_splits=10)\n",
    "accuracy = []\n",
    "for train_index, test_index in sk_fold.split(X,y):\n",
    "    x_fld_train = X[train_index]\n",
    "    y_fild_train = y[train_index]\n",
    "    x_fold_test = X[test_index]\n",
    "    y_fold_test = y[test_index]\n",
    "\n",
    "\n",
    "    model_ = LogisticRegression()\n",
    "    model_.fit(x_fld_train,y_fild_train)\n",
    "    y_pred = model_.predict(x_fld_train)\n",
    "    scoree = accuracy_score(y_pred, y_fild_train)\n",
    "    accuracy.append(scoree) #similar to cross validation score.....\n",
    "print(accuracy)"
   ]
  },
  {
   "cell_type": "code",
   "execution_count": 50,
   "metadata": {},
   "outputs": [
    {
     "name": "stdout",
     "output_type": "stream",
     "text": [
      "number of incorrectly classfied label is :41\n",
      "the number of correctly classified label is:472\n",
      "the percentage of correctly classified label is:0.0\n",
      "the percentage of incorrectly classified label is:0.07992202729044834\n",
      "              precision    recall  f1-score   support\n",
      "\n",
      "           0       0.85      0.93      0.89       176\n",
      "           1       0.96      0.92      0.94       337\n",
      "\n",
      "    accuracy                           0.92       513\n",
      "   macro avg       0.91      0.92      0.91       513\n",
      "weighted avg       0.92      0.92      0.92       513\n",
      "\n"
     ]
    }
   ],
   "source": [
    "incorrect  = sum(y_pred != y_fild_train)\n",
    "print(f\"number of incorrectly classfied label is :{incorrect}\")\n",
    "correct = sum(y_pred==y_fild_train)\n",
    "print(f\"the number of correctly classified label is:{correct}\")\n",
    "\n",
    "corre = sum(y_pred == correct)/len(y_pred)\n",
    "print(f\"the percentage of correctly classified label is:{corre}\")\n",
    "corre\n",
    "inco = sum(y_pred != y_fild_train)/len(y_pred)\n",
    "print(f\"the percentage of incorrectly classified label is:{inco}\")\n",
    "\n",
    "print(classification_report(y_pred, y_fild_train))\n"
   ]
  },
  {
   "cell_type": "code",
   "execution_count": 51,
   "metadata": {},
   "outputs": [
    {
     "data": {
      "text/plain": [
       "array([[163,  13],\n",
       "       [ 28, 309]], dtype=int64)"
      ]
     },
     "execution_count": 51,
     "metadata": {},
     "output_type": "execute_result"
    }
   ],
   "source": [
    "CF_matrix = confusion_matrix(y_pred, y_fild_train)\n",
    "CF_matrix"
   ]
  },
  {
   "cell_type": "code",
   "execution_count": 52,
   "metadata": {},
   "outputs": [
    {
     "data": {
      "text/plain": [
       "<sklearn.metrics._plot.confusion_matrix.ConfusionMatrixDisplay at 0x254f0de6490>"
      ]
     },
     "execution_count": 52,
     "metadata": {},
     "output_type": "execute_result"
    },
    {
     "data": {
      "image/png": "[encoded data removed]",
      "text/plain": [
       "<Figure size 640x480 with 2 Axes>"
      ]
     },
     "metadata": {},
     "output_type": "display_data"
    }
   ],
   "source": [
    "CF_matrix_display = ConfusionMatrixDisplay(confusion_matrix=CF_matrix, display_labels=model_.classes_)\n",
    "CF_matrix_display.plot()"
   ]
  },
  {
   "cell_type": "markdown",
   "metadata": {},
   "source": [
    "the class label consist of Benign tumors whcich are noncancerous represented as 0 , and Malignant tumors are cancerous represented as 1"
   ]
  },
  {
   "cell_type": "markdown",
   "metadata": {},
   "source": [
    " scenario one:  model says non cancerous but labels as cancerious which is FP\n",
    " scenario  two : model says cancerous but labels as non cancerous which is FN\n",
    "so in this case FN is of great importance than FP hence we use recal to measure accuracy \n",
    "we the cost of having people with cancer classified as non cancer outweight the other and vice versa \n",
    "in other words 25 patients were classified as non cancerous when the had cancer ....."
   ]
  },
  {
   "cell_type": "markdown",
   "metadata": {},
   "source": []
  },
  {
   "cell_type": "code",
   "execution_count": 53,
   "metadata": {},
   "outputs": [
    {
     "data": {
      "text/plain": [
       "0.9240121580547113"
      ]
     },
     "execution_count": 53,
     "metadata": {},
     "output_type": "execute_result"
    }
   ],
   "source": [
    "304/(304+25)"
   ]
  },
  {
   "cell_type": "code",
   "execution_count": 54,
   "metadata": {},
   "outputs": [
    {
     "data": {
      "text/plain": [
       "array([0, 0, 0, 1, 0, 1, 0, 1, 0, 0, 0, 0, 0, 0, 0, 0, 1, 0, 0, 1, 1, 1,\n",
       "       0, 0, 0, 0, 0, 0, 0, 0, 0, 1, 0, 0, 0, 0, 0, 1, 0, 1, 1, 1, 0, 1,\n",
       "       1, 0, 1, 1, 1, 1, 1, 1, 1, 0, 0, 1, 0, 0, 1, 1, 1, 1, 0, 1, 1, 0,\n",
       "       1, 1, 1, 1, 0, 1, 0, 1, 1, 0, 1, 0, 0, 1, 1, 1, 0, 0, 1, 0, 0, 0,\n",
       "       1, 1, 0, 0, 1, 1, 0, 0, 1, 1, 1, 0, 0, 1, 1, 1, 1, 1, 1, 1, 0, 1,\n",
       "       1, 1, 0, 1, 1, 1, 1, 0, 0, 0, 1, 0, 0, 1, 1, 1, 1, 0, 1, 0, 1, 0,\n",
       "       0, 1, 0, 1, 1, 1, 1, 1, 1, 0, 1, 1, 1, 1, 1, 0, 1, 1, 1, 1, 1, 1,\n",
       "       1, 1, 0, 0, 1, 1, 1, 0, 0, 1, 0, 1, 1, 0, 0, 1, 1, 1, 1, 1, 1, 1,\n",
       "       1, 0, 1, 1, 0, 0, 0, 1, 0, 1, 0, 1, 1, 1, 0, 1, 1, 0, 0, 1, 0, 0,\n",
       "       0, 0, 1, 0, 0, 0, 1, 1, 1, 0, 0, 1, 0, 1, 0, 0, 0, 1, 1, 1, 0, 0,\n",
       "       1, 1, 1, 0, 1, 1, 1, 1, 1, 1, 0, 1, 1, 0, 1, 1, 0, 0, 0, 0, 1, 1,\n",
       "       1, 1, 0, 1, 1, 1, 1, 1, 0, 1, 0, 0, 0, 1, 0, 0, 0, 0, 0, 0, 0, 1,\n",
       "       0, 0, 1, 1, 1, 1, 1, 1, 0, 1, 0, 1, 1, 0, 1, 1, 0, 1, 0, 0, 1, 1,\n",
       "       1, 1, 1, 1, 0, 1, 1, 1, 1, 1, 1, 1, 1, 1, 0, 1, 0, 1, 1, 1, 1, 1,\n",
       "       1, 1, 1, 1, 1, 1, 1, 1, 1, 0, 1, 1, 1, 0, 1, 0, 1, 1, 1, 1, 0, 0,\n",
       "       0, 1, 1, 1, 1, 0, 1, 0, 1, 0, 1, 1, 1, 0, 1, 1, 1, 1, 1, 1, 1, 0,\n",
       "       0, 0, 1, 1, 1, 1, 1, 1, 1, 1, 1, 0, 1, 0, 0, 1, 0, 0, 0, 1, 0, 0,\n",
       "       1, 0, 1, 1, 1, 1, 1, 1, 1, 1, 1, 0, 1, 1, 1, 0, 1, 1, 0, 0, 1, 1,\n",
       "       1, 1, 1, 1, 0, 1, 1, 1, 1, 1, 1, 1, 0, 1, 1, 1, 1, 0, 0, 1, 1, 0,\n",
       "       1, 1, 1, 1, 1, 1, 1, 1, 1, 1, 1, 1, 0, 1, 0, 0, 1, 1, 1, 1, 1, 1,\n",
       "       1, 0, 1, 1, 0, 1, 0, 1, 1, 0, 1, 0, 1, 1, 1, 0, 1, 1, 1, 1, 0, 0,\n",
       "       0, 1, 1, 1, 1, 1, 0, 1, 1, 1, 1, 1, 1, 1, 1, 1, 1, 0, 1, 1, 1, 1,\n",
       "       1, 1, 1, 0, 1, 1, 0, 1, 1, 1, 1, 1, 1, 1, 1, 1, 1, 1, 1, 1, 1, 1,\n",
       "       1, 1, 1, 1, 1, 1, 1], dtype=int64)"
      ]
     },
     "execution_count": 54,
     "metadata": {},
     "output_type": "execute_result"
    }
   ],
   "source": [
    "304/(304+18)\n",
    "y_pred\n"
   ]
  },
  {
   "cell_type": "code",
   "execution_count": 55,
   "metadata": {},
   "outputs": [],
   "source": [
    "y_scoress = model_.decision_function(x_fld_train) #decision fuction provide a sore that tells u if the predictor variable lies in zero or not zero.\n",
    "#or rather decision function provided the probability equivalence of the target binary classification. if value will fall on zero the prob equivalence will be -4 or any negative value \n",
    "#if value will fall in 1 the equivalent probality mwill be 1.23 or any positive value depending on our model.\n",
    "print\n",
    "y_scoress\n",
    "\n",
    "cloned = clone(model_)\n"
   ]
  },
  {
   "cell_type": "code",
   "execution_count": 62,
   "metadata": {},
   "outputs": [
    {
     "name": "stderr",
     "output_type": "stream",
     "text": [
      "C:\\anacondaa\\envs\\Nneoma\\Lib\\site-packages\\sklearn\\linear_model\\_logistic.py:458: ConvergenceWarning: lbfgs failed to converge (status=1):\n",
      "STOP: TOTAL NO. of ITERATIONS REACHED LIMIT.\n",
      "\n",
      "Increase the number of iterations (max_iter) or scale the data as shown in:\n",
      "    https://scikit-learn.org/stable/modules/preprocessing.html\n",
      "Please also refer to the documentation for alternative solver options:\n",
      "    https://scikit-learn.org/stable/modules/linear_model.html#logistic-regression\n",
      "  n_iter_i = _check_optimize_result(\n",
      "C:\\anacondaa\\envs\\Nneoma\\Lib\\site-packages\\sklearn\\linear_model\\_logistic.py:458: ConvergenceWarning: lbfgs failed to converge (status=1):\n",
      "STOP: TOTAL NO. of ITERATIONS REACHED LIMIT.\n",
      "\n",
      "Increase the number of iterations (max_iter) or scale the data as shown in:\n",
      "    https://scikit-learn.org/stable/modules/preprocessing.html\n",
      "Please also refer to the documentation for alternative solver options:\n",
      "    https://scikit-learn.org/stable/modules/linear_model.html#logistic-regression\n",
      "  n_iter_i = _check_optimize_result(\n",
      "C:\\anacondaa\\envs\\Nneoma\\Lib\\site-packages\\sklearn\\linear_model\\_logistic.py:458: ConvergenceWarning: lbfgs failed to converge (status=1):\n",
      "STOP: TOTAL NO. of ITERATIONS REACHED LIMIT.\n",
      "\n",
      "Increase the number of iterations (max_iter) or scale the data as shown in:\n",
      "    https://scikit-learn.org/stable/modules/preprocessing.html\n",
      "Please also refer to the documentation for alternative solver options:\n",
      "    https://scikit-learn.org/stable/modules/linear_model.html#logistic-regression\n",
      "  n_iter_i = _check_optimize_result(\n",
      "C:\\anacondaa\\envs\\Nneoma\\Lib\\site-packages\\sklearn\\linear_model\\_logistic.py:458: ConvergenceWarning: lbfgs failed to converge (status=1):\n",
      "STOP: TOTAL NO. of ITERATIONS REACHED LIMIT.\n",
      "\n",
      "Increase the number of iterations (max_iter) or scale the data as shown in:\n",
      "    https://scikit-learn.org/stable/modules/preprocessing.html\n",
      "Please also refer to the documentation for alternative solver options:\n",
      "    https://scikit-learn.org/stable/modules/linear_model.html#logistic-regression\n",
      "  n_iter_i = _check_optimize_result(\n",
      "C:\\anacondaa\\envs\\Nneoma\\Lib\\site-packages\\sklearn\\linear_model\\_logistic.py:458: ConvergenceWarning: lbfgs failed to converge (status=1):\n",
      "STOP: TOTAL NO. of ITERATIONS REACHED LIMIT.\n",
      "\n",
      "Increase the number of iterations (max_iter) or scale the data as shown in:\n",
      "    https://scikit-learn.org/stable/modules/preprocessing.html\n",
      "Please also refer to the documentation for alternative solver options:\n",
      "    https://scikit-learn.org/stable/modules/linear_model.html#logistic-regression\n",
      "  n_iter_i = _check_optimize_result(\n",
      "C:\\anacondaa\\envs\\Nneoma\\Lib\\site-packages\\sklearn\\linear_model\\_logistic.py:458: ConvergenceWarning: lbfgs failed to converge (status=1):\n",
      "STOP: TOTAL NO. of ITERATIONS REACHED LIMIT.\n",
      "\n",
      "Increase the number of iterations (max_iter) or scale the data as shown in:\n",
      "    https://scikit-learn.org/stable/modules/preprocessing.html\n",
      "Please also refer to the documentation for alternative solver options:\n",
      "    https://scikit-learn.org/stable/modules/linear_model.html#logistic-regression\n",
      "  n_iter_i = _check_optimize_result(\n"
     ]
    },
    {
     "data": {
      "text/plain": [
       "array([-4.23392881e+00, -7.61582027e+00, -7.67542544e+00,  1.26728030e+00,\n",
       "       -8.30767230e+00,  2.14316286e+00, -4.76971606e+00,  4.85299953e-01,\n",
       "       -8.62711097e-02, -1.87849896e-01, -1.30917055e+00, -1.16059109e+00,\n",
       "       -9.65205021e+00, -2.24387320e+00, -1.32159947e+00, -2.36466690e+00,\n",
       "        4.05485229e-02, -2.70362753e+00, -8.83684961e+00,  2.65620316e+00,\n",
       "        2.39492001e+00,  5.24631075e+00,  2.01722923e-01, -4.79668335e+00,\n",
       "       -3.03832172e+00, -5.02047161e+00, -2.93526271e+00, -3.96790073e+00,\n",
       "       -4.62048733e+00, -1.90063645e+00, -7.63985846e+00,  2.80481932e+00,\n",
       "       -5.17470255e+00, -7.53675360e+00, -2.67300925e+00, -3.54097191e+00,\n",
       "       -1.00186859e+00,  2.83612077e+00, -4.22768114e-01,  1.55193454e-01,\n",
       "        1.71350079e+00,  3.32775824e+00, -8.92982310e+00,  8.17406014e-01,\n",
       "        1.29002883e+00, -5.47215153e+00,  4.34703416e+00,  1.57866667e+00,\n",
       "        3.37666141e+00,  1.12058817e+00,  2.65766707e+00,  2.63459962e+00,\n",
       "        3.46617113e+00, -4.89779247e+00, -3.51422178e-01,  3.33349861e+00,\n",
       "       -5.93040429e+00,  2.16875275e-01,  2.64465572e+00,  5.49923745e+00,\n",
       "        4.74617135e+00,  3.36551637e+00, -2.18214016e+00,  4.35953373e+00,\n",
       "        7.84787251e-01, -1.15908848e+00,  3.45839394e+00,  3.43616909e+00,\n",
       "        3.43997979e+00,  3.27232959e+00, -6.23629769e+00,  3.57913331e+00,\n",
       "       -5.13044281e+00,  1.61362675e+00,  3.02475083e+00, -1.46529648e+00,\n",
       "        3.32702072e+00, -4.41021702e+00, -1.39927677e+01,  2.39057130e+00,\n",
       "        2.54013878e+00,  3.10638479e+00, -2.09517311e+01, -9.31253595e+00,\n",
       "        3.58131522e+00, -3.18280572e+00, -4.71095345e-01, -4.11693736e+00,\n",
       "        1.97386160e+00,  1.31029781e+00, -4.06675584e-01, -1.76923038e+00,\n",
       "        2.99155224e+00,  2.09388411e+00, -1.98969841e+00, -5.62645780e+00,\n",
       "        4.27391896e+00,  7.25385327e+00,  6.31125633e+00, -3.31233983e-01,\n",
       "       -2.62264217e-01,  1.38630086e+01,  4.10550122e+00,  6.21859937e+00,\n",
       "        5.74754306e+00,  1.30300306e+00,  4.13040282e+00,  3.84508181e+00,\n",
       "       -1.07725520e+01,  4.39710686e+00,  7.69115646e+00,  1.59943582e+00,\n",
       "       -3.83951634e+00,  4.49697971e+00,  9.57918472e+00,  3.33868230e+00,\n",
       "        8.10125249e+00, -6.47166974e-01, -3.93391508e+00, -1.19354593e+00,\n",
       "        7.03649147e+00, -2.42128773e+00, -1.23847554e+01,  2.42063962e+00,\n",
       "        2.93938697e+00,  2.69389122e+00, -7.29553008e-02, -2.83096731e+00,\n",
       "       -1.29267553e+00, -6.81938049e+00,  4.65338696e+00, -1.37187719e+00,\n",
       "       -2.21716138e+00,  6.29492074e-01, -5.23566838e+00,  1.76414533e+00,\n",
       "        5.36779729e+00,  5.92708723e+00,  1.05504050e+00,  5.87968519e+00,\n",
       "        1.00497013e+01, -1.18221332e+00,  4.84090636e+00,  3.00169786e+00,\n",
       "        7.36040203e+00,  3.85951665e+00,  1.58720520e+00, -6.90797012e-01,\n",
       "        1.50853935e+00,  2.02487171e+00,  1.97102733e+00,  2.93645677e+00,\n",
       "        3.36300111e+00,  4.79888715e+00,  2.39780052e+00,  3.20808746e+00,\n",
       "       -4.48738452e+00, -1.59466767e+00,  4.41113758e+00,  5.13901270e+00,\n",
       "        2.54070931e+00, -5.65417759e+00, -7.98993700e+00,  1.84512280e+00,\n",
       "       -1.40980269e+01,  9.73016543e-01,  5.53987850e+00, -2.15345195e+00,\n",
       "       -6.19442530e+00,  1.30485674e+00,  4.29150391e+00,  1.92155691e+00,\n",
       "        2.56318880e-01,  4.70198882e+00,  4.60832366e+00,  5.15883002e+00,\n",
       "        3.14411827e+00, -2.69239284e+00,  2.29415580e+00,  4.06592661e+00,\n",
       "       -2.49981829e+01, -1.13820624e+01, -4.12304842e-01,  3.78734358e+00,\n",
       "       -3.02987330e-01,  4.60048627e+00, -2.30916172e+00,  3.66765006e+00,\n",
       "        3.57509740e+00,  3.49741768e+00, -1.77538387e+00,  1.82656672e+00,\n",
       "        4.55415681e+00, -1.43550497e-01, -3.56065167e+00,  3.04374741e+00,\n",
       "       -4.94692529e-01, -3.10830070e+00, -6.01420694e+00, -2.49072215e-01,\n",
       "        2.62565082e+00, -2.92494456e+00, -1.26946087e+01, -1.31340353e+00,\n",
       "        2.13154819e+00,  2.07689065e-01,  6.41764795e+00, -1.41897538e+00,\n",
       "       -6.52891966e-01,  2.26251447e+00, -5.84506517e+00,  3.87502563e+00,\n",
       "       -1.11369837e+01, -4.50920341e+00, -1.05057198e+00,  8.63605103e-01,\n",
       "        3.00474050e+00,  6.02874857e+00, -4.96608180e+00, -7.75357878e+00,\n",
       "        3.37246018e+00,  2.36246650e+00,  5.82861577e+00, -1.43763159e+00,\n",
       "        3.24673505e+00,  2.65693675e+00,  6.28027226e+00,  8.74695108e-01,\n",
       "        1.13819900e+00, -3.42869156e-01, -3.75483588e+00,  2.29173640e+00,\n",
       "        5.76145458e-01, -7.32585603e+00,  7.69448121e+00,  9.88086510e-01,\n",
       "       -9.62878899e+00, -4.48365520e+00, -2.15016665e+00, -8.05513514e+00,\n",
       "        3.01060522e+00,  4.94401583e+00,  3.37685581e+00,  2.14034851e-01,\n",
       "       -6.99723470e+00,  5.07383630e+00,  3.18196822e+00,  2.53043157e+00,\n",
       "        3.13926042e+00,  5.12880007e+00, -7.63866657e+00,  4.43058121e+00,\n",
       "       -5.71556361e+00, -1.96355670e+00, -3.82896377e+00,  8.31115613e-01,\n",
       "       -1.05975787e+01, -2.59368430e+00, -7.48538154e+00, -6.59690420e+00,\n",
       "       -6.92425623e+00, -1.85040133e+00, -4.14053698e+00,  3.35960713e-01,\n",
       "       -2.54164192e+00, -6.80851931e+00,  4.02809744e+00,  1.02976176e+00,\n",
       "        3.57182414e+00,  2.72642876e+00,  2.68009146e+00,  4.63157121e+00,\n",
       "       -9.00793652e+00,  4.71386343e+00, -2.93150386e+00,  3.29713205e+00,\n",
       "        4.61281664e+00, -2.14992524e+00,  2.71485815e+00,  2.69683150e+00,\n",
       "       -6.58136378e+00,  4.57015323e+00, -4.23274245e+00, -3.83324957e+00,\n",
       "        2.28653555e+00,  3.17665651e+00,  1.76337744e+00,  4.06581357e+00,\n",
       "        2.01246865e+00,  3.58951301e+00, -9.58574689e-01,  4.48754851e-01,\n",
       "        3.09621193e+00,  3.51871406e+00,  3.72895403e+00,  3.34331576e+00,\n",
       "        5.19983775e+00,  4.55946695e+00,  1.72139572e+00,  2.86651434e+00,\n",
       "       -4.81716673e+00,  2.37137537e+00, -8.20938342e+00,  3.73380782e+00,\n",
       "        3.23968034e+00,  1.85550220e+00,  3.28305864e+00,  5.22048246e+00,\n",
       "        3.84043089e+00,  3.88297392e+00,  4.17213535e+00,  2.69703729e+00,\n",
       "        3.94284706e+00,  6.24509390e+00,  7.71247591e+00,  4.16886531e+00,\n",
       "        5.17691398e+00, -2.84294550e+00,  5.11681360e+00,  4.32591620e+00,\n",
       "        5.43710572e+00, -3.70255666e+00,  3.87359110e+00, -7.54572397e+00,\n",
       "        4.41526259e+00,  3.24878508e+00,  3.45733867e+00,  4.41913828e+00,\n",
       "       -2.72760604e+00, -3.35412248e+00, -1.00172517e+00,  1.59915734e+00,\n",
       "        4.01125736e+00,  5.80400131e+00,  3.82549840e+00, -3.05684130e+00,\n",
       "        3.24409378e+00, -4.56000572e+00,  5.82697190e+00, -8.39878903e+00,\n",
       "        8.36954238e-01,  6.40650349e+00,  5.05375096e+00, -5.98980379e+00,\n",
       "        4.69429879e+00,  6.03864506e+00,  3.86980962e+00,  1.94670582e+00,\n",
       "        5.09136540e+00,  4.08334095e+00,  5.02522323e+00, -4.19654601e+00,\n",
       "       -1.04898178e+01, -2.50854192e+00,  5.75095044e+00,  1.95606582e+00,\n",
       "        1.46023045e+00,  2.71599445e+00,  8.06562299e+00,  6.99677668e+00,\n",
       "        3.92756963e+00,  1.51189226e+00,  2.66748419e+00, -9.15481612e-01,\n",
       "        2.95349386e+00, -5.71157707e+00, -8.60691274e+00,  3.50996485e+00,\n",
       "       -3.06652391e+00, -8.80290677e+00, -4.53681660e+00,  1.94036877e+00,\n",
       "       -5.11672897e+00, -3.90618400e+00,  2.61110662e+00, -1.42248606e+00,\n",
       "        3.01712202e+00, -1.98792884e-01,  2.51468814e+00,  2.77804117e+00,\n",
       "        5.25460195e+00,  5.67949224e+00,  1.40639104e+00,  2.59405464e+00,\n",
       "        3.22951844e+00, -7.02712563e-01,  4.32434386e+00,  2.89185835e+00,\n",
       "        4.47393203e+00, -6.38850020e+00,  7.23493466e+00,  8.23537111e+00,\n",
       "       -2.12902827e+00, -1.10005801e+01,  3.35005957e+00,  2.25908539e+00,\n",
       "        9.79047800e-01,  2.47932836e+00,  6.05455533e+00,  4.73208753e+00,\n",
       "       -8.06929986e+00,  6.34746142e+00,  2.14638340e+00,  3.18697848e+00,\n",
       "        5.07475386e+00,  4.83846901e+00,  3.51557349e-01,  2.01309295e+00,\n",
       "       -4.10754555e+00,  3.91813288e+00,  5.09949485e+00,  5.24260370e+00,\n",
       "        6.43940529e+00, -1.16391400e+00, -1.70963688e+00,  3.04666649e+00,\n",
       "        6.59329721e+00, -3.28202841e+00,  5.22939724e+00,  4.36997929e+00,\n",
       "        4.10064683e+00, -7.77275778e-01,  4.06274942e+00,  5.03381423e-01,\n",
       "        6.72155129e+00,  6.20559712e+00,  6.28608305e+00,  4.58924481e+00,\n",
       "        6.01429213e+00,  3.76220921e+00, -3.45498385e+00,  2.02353628e+00,\n",
       "       -7.94418636e+00, -6.18582594e+00,  1.65485172e+00,  6.28412004e-01,\n",
       "        2.46732444e+00,  2.69217623e+00,  1.73358408e+00,  2.82015532e+00,\n",
       "        4.23396299e+00, -4.01946258e+00,  2.78047118e+00,  5.79754449e+00,\n",
       "       -2.96494721e+00,  8.75250154e-01, -6.12084952e+00,  5.76385721e-01,\n",
       "        2.63234465e-01, -8.99894458e+00,  2.17935879e+00, -7.17581658e+00,\n",
       "        3.14335642e-01,  2.20181228e+00,  3.64347517e+00, -2.32614916e+00,\n",
       "        1.60655746e-02,  4.34369427e-01,  7.67162649e-01,  3.27257266e+00,\n",
       "       -4.59438893e+00, -3.00539684e+01, -1.52392103e+00,  4.36465281e+00,\n",
       "        2.65747644e+00,  5.13797473e-01,  5.83357508e-01,  6.92513034e+00,\n",
       "       -6.67228087e+00,  2.77370390e+00,  6.53183816e+00,  4.66562703e-01,\n",
       "        1.56885470e+00,  1.76614533e-01,  5.29602461e+00,  3.29137773e+00,\n",
       "       -1.71808009e-01,  2.53728329e+00,  5.24527725e+00, -3.68788274e+00,\n",
       "        2.78924077e+00,  1.61703643e+00,  2.58552339e+00,  2.15907665e+00,\n",
       "        7.26968745e-01,  1.51854946e+00,  1.12148744e+00, -6.35101544e+00,\n",
       "        3.22863597e+00,  2.15578687e+00, -1.48519811e+00,  4.42111465e+00,\n",
       "        1.92344710e+00,  1.13753530e-01,  1.89906036e+00,  2.63558190e+00,\n",
       "       -2.23586785e-02,  2.72197154e+00,  4.25507226e+00,  4.15496996e+00,\n",
       "        2.02199084e+00,  3.66577519e+00, -9.18429426e-02,  3.30267756e+00,\n",
       "        1.75495069e+00,  1.57358158e+00,  3.31605462e+00,  1.75657746e+00,\n",
       "        2.54353250e+00,  4.85208633e+00,  3.60366626e+00,  1.48534503e+00,\n",
       "        4.63119144e+00])"
      ]
     },
     "execution_count": 62,
     "metadata": {},
     "output_type": "execute_result"
    }
   ],
   "source": [
    "threshold = 0\n",
    "y_digit_pred = (y_scoress>0)\n",
    "y_digit_pred\n",
    "\n",
    "c = cross_val_score(cloned , x_fld_train, y_fild_train, cv=10, scoring =\"accuracy\")\n",
    "\n",
    "y_scores = cross_val_predict(cloned,x_fld_train, y_fild_train, cv=10,  method=\"decision_function\") #prob equiv of y wrt to X(after fitting)\n",
    "y_scores"
   ]
  },
  {
   "cell_type": "code",
   "execution_count": 66,
   "metadata": {},
   "outputs": [
    {
     "data": {
      "text/plain": [
       "(array([ 1.,  0.,  0.,  0.,  0.,  1.,  0.,  0.,  0.,  0.,  1.,  0.,  0.,\n",
       "         0.,  0.,  0.,  0.,  0.,  2.,  1.,  1.,  4.,  2.,  5.,  7., 13.,\n",
       "        10., 13., 12., 20., 18., 20., 22., 22., 32., 28., 51., 70., 55.,\n",
       "        42., 28., 17.,  9.,  3.,  0.,  2.,  0.,  0.,  0.,  1.]),\n",
       " array([-30.05396842, -29.17562887, -28.29728933, -27.41894979,\n",
       "        -26.54061025, -25.66227071, -24.78393117, -23.90559163,\n",
       "        -23.02725209, -22.14891255, -21.27057301, -20.39223347,\n",
       "        -19.51389392, -18.63555438, -17.75721484, -16.8788753 ,\n",
       "        -16.00053576, -15.12219622, -14.24385668, -13.36551714,\n",
       "        -12.4871776 , -11.60883806, -10.73049851,  -9.85215897,\n",
       "         -8.97381943,  -8.09547989,  -7.21714035,  -6.33880081,\n",
       "         -5.46046127,  -4.58212173,  -3.70378219,  -2.82544265,\n",
       "         -1.94710311,  -1.06876356,  -0.19042402,   0.68791552,\n",
       "          1.56625506,   2.4445946 ,   3.32293414,   4.20127368,\n",
       "          5.07961322,   5.95795276,   6.8362923 ,   7.71463185,\n",
       "          8.59297139,   9.47131093,  10.34965047,  11.22799001,\n",
       "         12.10632955,  12.98466909,  13.86300863]),\n",
       " <BarContainer object of 50 artists>)"
      ]
     },
     "execution_count": 66,
     "metadata": {},
     "output_type": "execute_result"
    },
    {
     "data": {
      "image/png": "[encoded data removed]",
      "text/plain": [
       "<Figure size 800x600 with 1 Axes>"
      ]
     },
     "metadata": {},
     "output_type": "display_data"
    }
   ],
   "source": [
    "plt.figure(figsize=(8,6))\n",
    "plt.hist(y_scores, bins=50)"
   ]
  },
  {
   "cell_type": "markdown",
   "metadata": {},
   "source": [
    "#from this we can deduce that our model or classifier predicted that majority of patience are prone to have cancer and less pateince are prone to have cancer as our\n",
    "* recall_precision trade off and graph"
   ]
  },
  {
   "cell_type": "code",
   "execution_count": 78,
   "metadata": {},
   "outputs": [
    {
     "data": {
      "image/png": "[encoded data removed]",
      "text/plain": [
       "<Figure size 640x480 with 1 Axes>"
      ]
     },
     "metadata": {},
     "output_type": "display_data"
    }
   ],
   "source": [
    "precision, recall, thresholds = precision_recall_curve(y_fild_train, y_scores) #\n",
    "recall\n",
    "display = PrecisionRecallDisplay.from_predictions(y_fild_train, y_scores)"
   ]
  },
  {
   "cell_type": "code",
   "execution_count": null,
   "metadata": {},
   "outputs": [],
   "source": []
  }
 ],
 "metadata": {
  "kernelspec": {
   "display_name": "Python 3 (ipykernel)",
   "language": "python",
   "name": "python3"
  }
 },
 "nbformat": 4,
 "nbformat_minor": 2
}
